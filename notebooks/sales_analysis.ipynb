import pandas as pd
import seaborn as sns
import matplotlib.pyplot as plt
import plotly.express as px

# Load Data
df = pd.read_csv('../data/superstore_sales.csv')
df['Order Date'] = pd.to_datetime(df['Order Date'])
df['Ship Date'] = pd.to_datetime(df['Ship Date'])

# Feature Engineering
df['Year'] = df['Order Date'].dt.year
df['Month'] = df['Order Date'].dt.month

# 1. Sales by Region
region_sales = df.groupby('Region')['Sales'].sum().reset_index()
sns.barplot(data=region_sales, x='Region', y='Sales')
plt.title("Sales by Region")
plt.show()

# 2. Monthly Sales Trend
monthly_sales = df.groupby(['Year', 'Month'])['Sales'].sum().reset_index()
monthly_sales['Date'] = pd.to_datetime(monthly_sales[['Year', 'Month']].assign(DAY=1))
sns.lineplot(data=monthly_sales, x='Date', y='Sales')
plt.title("Monthly Sales Trend")
plt.show()

# 3. Profit vs Sales (Plotly)
fig = px.scatter(df, x='Sales', y='Profit', color='Category',
                 size='Quantity', hover_data=['Sub-Category'])
fig.update_layout(title='Sales vs Profit Scatter Plot')
fig.show()
